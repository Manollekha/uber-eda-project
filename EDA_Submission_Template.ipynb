{
  "nbformat": 4,
  "nbformat_minor": 0,
  "metadata": {
    "colab": {
      "private_outputs": true,
      "provenance": [],
      "collapsed_sections": [
        "vncDsAP0Gaoa",
        "FJNUwmbgGyua",
        "w6K7xa23Elo4",
        "yQaldy8SH6Dl",
        "PH-0ReGfmX4f",
        "mDgbUHAGgjLW",
        "HhfV-JJviCcP",
        "Y3lxredqlCYt",
        "3RnN4peoiCZX",
        "x71ZqKXriCWQ",
        "nA9Y7ga8ng1Z",
        "u3PMJOP6ngxN",
        "dauF4eBmngu3",
        "GF8Ens_Soomf",
        "0wOQAZs5pc--",
        "lQ7QKXXCp7Bj",
        "KSlN3yHqYklG",
        "EM7whBJCYoAo",
        "4Of9eVA-YrdM",
        "bamQiAODYuh1",
        "GwzvFGzlYuh3",
        "OH-pJp9IphqM",
        "_ouA3fa0phqN",
        "Seke61FWphqN",
        "PIIx-8_IphqN",
        "BZR9WyysphqO",
        "jj7wYXLtphqO",
        "eZrbJ2SmphqO",
        "YJ55k-q6phqO",
        "gCFgpxoyphqP",
        "U2RJ9gkRphqQ",
        "1M8mcRywphqQ",
        "JcMwzZxoAimU",
        "8G2x9gOozGDZ",
        "gCX9965dhzqZ"
      ]
    },
    "kernelspec": {
      "name": "python3",
      "display_name": "Python 3"
    },
    "language_info": {
      "name": "python"
    }
  },
  "cells": [
    {
      "cell_type": "markdown",
      "source": [
        "# **Project Name**    -  UBER SUPPLY DEMAND GAP\n",
        "\n",
        "\n"
      ],
      "metadata": {
        "id": "vncDsAP0Gaoa"
      }
    },
    {
      "cell_type": "markdown",
      "source": [
        "##### **Project Type**    - EDA\n",
        "##### **Contribution**    - Individual\n",
        "##### **Name -** Manasvi Shetty\n"
      ],
      "metadata": {
        "id": "beRrZCGUAJYm"
      }
    },
    {
      "cell_type": "markdown",
      "source": [
        "# **Project Summary -**"
      ],
      "metadata": {
        "id": "FJNUwmbgGyua"
      }
    },
    {
      "cell_type": "markdown",
      "source": [
        "This project explores Uber supply demand gap to uncover business-critical insights using Excel, SQL, and Python.\n",
        "\n",
        "The dataset includes key fields such as\n",
        "\n",
        " Request Timestamp\n",
        "\n",
        "  Pickup Point\n",
        "\n",
        "  Driver ID\n",
        "\n",
        "   Trip Status (Trip Completed, Cancelled, No Cars Available)\n",
        "   \n",
        "   Request Hour\n",
        "   \n",
        "   Time Slot.\n",
        "\n",
        "\n",
        "**Excel Phase: Data Cleaning & Dashboarding**\n",
        "\n",
        "Converted timestamp columns into readable dd-mm-yyyy hh:mm format\n",
        "\n",
        "Checked for missing values and categorized request status\n",
        "\n",
        "**Created three new columns:**\n",
        "\n",
        "Request Hour (0–23)\n",
        "\n",
        "Time Slot (e.g., Morning, Evening)\n",
        "\n",
        "Trip Type (Pickup Point + Status)\n",
        "\n",
        "\n",
        "**Excel Visualizations Included:**\n",
        "\n",
        "**Pie chart:** Ride status distribution\n",
        "\n",
        "**Bar/line charts:** Requests by hour\n",
        "\n",
        "**Stacked bar: **Completed vs Cancelled by time slot\n",
        "\n",
        "**Category comparison:** Airport vs City requests\n",
        "\n",
        "**SQL Phase: Querying Trends**\n",
        "\n",
        "Using SQLite DB Browser, the cleaned data was imported and queries were performed on uber_cleaned_data to validate patterns:\n",
        "\n",
        "Total requests per hour\n",
        "\n",
        "Ride cancellations by pickup point\n",
        "\n",
        "Completed vs Cancelled counts per hour\n",
        "\n",
        "Requests grouped by status\n",
        "\n",
        "These confirmed demand spikes, cancellation trends, and service gaps observed in Excel.\n",
        "\n",
        "**Python Phase: EDA with Pandas & Seaborn**\n",
        "\n",
        "Exploratory Data Analysis (EDA) was extended using Python:\n",
        "\n",
        "Countplots for status, pickup point, request hour\n",
        "\n",
        "Stacked and violin plots for status distribution by time\n",
        "\n",
        "Histograms, box plots, and heatmaps for visual insight\n",
        "\n",
        "Pairplots to observe multivariate trends\n",
        "\n",
        "10 unique plots were created and corrected for visual clarity and seaborn compatibility.\n",
        "\n",
        "**Key Insights**\n",
        "\n",
        "Peak hours: 8 AM – 10 AM & 5 PM – 9 PM\n",
        "\n",
        "Airport faced more cancellations and fewer completed rides\n",
        "\n",
        "No Cars Available mostly occurred during peak demand times\n",
        "\n",
        "Late night & early morning had highest cancellation rates\n",
        "\n",
        "**Business Impact**\n",
        "\n",
        "These insights help Uber:\n",
        "\n",
        "Allocate drivers during high-demand hours\n",
        "\n",
        "Improve service availability during off-peak periods\n",
        "\n",
        "Reduce ride failures through predictive resource planning\n",
        "\n",
        "**Project Outcome**\n",
        "\n",
        "This project demonstrates a full-cycle EDA using Excel, SQL, and Python, with:\n",
        "\n",
        "Clean, well-structured data\n",
        "\n",
        "Reproducible code and visualizations\n",
        "\n",
        "Clear business-focused recommendations\n",
        "\n"
      ],
      "metadata": {
        "id": "F6v_1wHtG2nS"
      }
    },
    {
      "cell_type": "markdown",
      "source": [
        "# **GitHub Link -**"
      ],
      "metadata": {
        "id": "w6K7xa23Elo4"
      }
    },
    {
      "cell_type": "markdown",
      "source": [
        "https://github.com/Manollekha/uber-eda-project"
      ],
      "metadata": {
        "id": "h1o69JH3Eqqn"
      }
    },
    {
      "cell_type": "markdown",
      "source": [
        "# **Problem Statement**\n"
      ],
      "metadata": {
        "id": "yQaldy8SH6Dl"
      }
    },
    {
      "cell_type": "markdown",
      "source": [
        "The problem aims to explore Uber ride request data to understand patterns in ride demand, cancellations, and service availability. The company is facing issues such as ride cancellations and peak-hour unavailability, particularly at specific pickup points like the Airport or City."
      ],
      "metadata": {
        "id": "DpeJGUA3kjGy"
      }
    },
    {
      "cell_type": "markdown",
      "source": [
        "#### **Define Your Business Objective?**"
      ],
      "metadata": {
        "id": "PH-0ReGfmX4f"
      }
    },
    {
      "cell_type": "markdown",
      "source": [
        "The objective is to help Uber identify:\n",
        "\n",
        "-> When and where most ride requests are made\n",
        "\n",
        "-> When cancellations are highest\n",
        "\n",
        "-> Time periods with no car availability\n",
        "\n",
        "Insights from this analysis will help in optimizing driver allocation, reducing cancellations, and improving customer satisfaction."
      ],
      "metadata": {
        "id": "PhDvGCAqmjP1"
      }
    },
    {
      "cell_type": "markdown",
      "source": [
        "# **General Guidelines** : -  "
      ],
      "metadata": {
        "id": "mDgbUHAGgjLW"
      }
    },
    {
      "cell_type": "markdown",
      "source": [
        "1.   Well-structured, formatted, and commented code is required.\n",
        "2.   Exception Handling, Production Grade Code & Deployment Ready Code will be a plus. Those students will be awarded some additional credits.\n",
        "     \n",
        "     The additional credits will have advantages over other students during Star Student selection.\n",
        "       \n",
        "             [ Note: - Deployment Ready Code is defined as, the whole .ipynb notebook should be executable in one go\n",
        "                       without a single error logged. ]\n",
        "\n",
        "3.   Each and every logic should have proper comments.\n",
        "4. You may add as many number of charts you want. Make Sure for each and every chart the following format should be answered.\n",
        "        \n",
        "\n",
        "```\n",
        "# Chart visualization code\n",
        "```\n",
        "            \n",
        "\n",
        "*   Why did you pick the specific chart?\n",
        "*   What is/are the insight(s) found from the chart?\n",
        "* Will the gained insights help creating a positive business impact?\n",
        "Are there any insights that lead to negative growth? Justify with specific reason.\n",
        "\n",
        "5. You have to create at least 20 logical & meaningful charts having important insights.\n",
        "\n",
        "\n",
        "[ Hints : - Do the Vizualization in  a structured way while following \"UBM\" Rule.\n",
        "\n",
        "U - Univariate Analysis,\n",
        "\n",
        "B - Bivariate Analysis (Numerical - Categorical, Numerical - Numerical, Categorical - Categorical)\n",
        "\n",
        "M - Multivariate Analysis\n",
        " ]\n",
        "\n",
        "\n",
        "\n"
      ],
      "metadata": {
        "id": "ZrxVaUj-hHfC"
      }
    },
    {
      "cell_type": "markdown",
      "source": [
        "# ***Let's Begin !***"
      ],
      "metadata": {
        "id": "O_i_v8NEhb9l"
      }
    },
    {
      "cell_type": "markdown",
      "source": [
        "## ***1. Know Your Data***"
      ],
      "metadata": {
        "id": "HhfV-JJviCcP"
      }
    },
    {
      "cell_type": "markdown",
      "source": [
        "### Import Libraries"
      ],
      "metadata": {
        "id": "Y3lxredqlCYt"
      }
    },
    {
      "cell_type": "code",
      "source": [
        "# Import essential libraries for data analysis and visualization\n",
        "import pandas as pd\n",
        "import matplotlib.pyplot as plt\n",
        "import seaborn as sns\n",
        "\n",
        "# Set a theme for plots\n",
        "sns.set_theme(style=\"whitegrid\")\n"
      ],
      "metadata": {
        "id": "M8Vqi-pPk-HR"
      },
      "execution_count": null,
      "outputs": []
    },
    {
      "cell_type": "markdown",
      "source": [
        "### Dataset Loading"
      ],
      "metadata": {
        "id": "3RnN4peoiCZX"
      }
    },
    {
      "cell_type": "code",
      "source": [
        "# Load the cleaned Uber dataset\n",
        "df = pd.read_csv(\"uber_cleaned_data.csv\")\n",
        "\n",
        "# Confirm successful load\n",
        "print(\"Dataset loaded successfully.\")\n"
      ],
      "metadata": {
        "id": "4CkvbW_SlZ_R"
      },
      "execution_count": null,
      "outputs": []
    },
    {
      "cell_type": "markdown",
      "source": [
        "### Dataset First View"
      ],
      "metadata": {
        "id": "x71ZqKXriCWQ"
      }
    },
    {
      "cell_type": "code",
      "source": [
        "# Display the first 5 rows of the dataset\n",
        "df.head()\n"
      ],
      "metadata": {
        "id": "LWNFOSvLl09H"
      },
      "execution_count": null,
      "outputs": []
    },
    {
      "cell_type": "markdown",
      "source": [
        "### Dataset Rows & Columns count"
      ],
      "metadata": {
        "id": "7hBIi_osiCS2"
      }
    },
    {
      "cell_type": "code",
      "source": [
        "# Get the number of rows and columns\n",
        "print(f\"Total Rows: {df.shape[0]}\")\n",
        "print(f\"Total Columns: {df.shape[1]}\")"
      ],
      "metadata": {
        "id": "Kllu7SJgmLij"
      },
      "execution_count": null,
      "outputs": []
    },
    {
      "cell_type": "markdown",
      "source": [
        "### Dataset Information"
      ],
      "metadata": {
        "id": "JlHwYmJAmNHm"
      }
    },
    {
      "cell_type": "code",
      "source": [
        "df.info()\n"
      ],
      "metadata": {
        "id": "e9hRXRi6meOf"
      },
      "execution_count": null,
      "outputs": []
    },
    {
      "cell_type": "markdown",
      "source": [
        "#### Duplicate Values"
      ],
      "metadata": {
        "id": "35m5QtbWiB9F"
      }
    },
    {
      "cell_type": "code",
      "source": [
        "# Check for duplicate rows\n",
        "duplicate_count = df.duplicated().sum()\n",
        "print(f\"Total duplicate rows: {duplicate_count}\")"
      ],
      "metadata": {
        "id": "1sLdpKYkmox0"
      },
      "execution_count": null,
      "outputs": []
    },
    {
      "cell_type": "markdown",
      "source": [
        "#### Missing Values/Null Values"
      ],
      "metadata": {
        "id": "PoPl-ycgm1ru"
      }
    },
    {
      "cell_type": "code",
      "source": [
        "# Check missing values in each column\n",
        "print(\"Missing Values in Each Column:\\n\")\n",
        "print(df.isnull().sum())"
      ],
      "metadata": {
        "id": "GgHWkxvamxVg"
      },
      "execution_count": null,
      "outputs": []
    },
    {
      "cell_type": "code",
      "source": [
        "# Visualize missing values with a heatmap\n",
        "plt.figure(figsize=(10, 5))\n",
        "sns.heatmap(df.isnull(), cbar=False, cmap=\"YlOrRd\")\n",
        "plt.title(\"Missing Value Heatmap\")\n",
        "plt.show()\n"
      ],
      "metadata": {
        "id": "3q5wnI3om9sJ"
      },
      "execution_count": null,
      "outputs": []
    },
    {
      "cell_type": "markdown",
      "source": [
        "### What did you know about your dataset?"
      ],
      "metadata": {
        "id": "H0kj-8xxnORC"
      }
    },
    {
      "cell_type": "markdown",
      "source": [
        "- The dataset has columns like Request ID, Pickup Point, Status, etc.\n",
        "- There are missing values in `Driver id` and `Drop timestamp`, which indicate cancelled or failed trips.\n",
        "- No duplicate rows were found (if duplicate count is 0).\n",
        "- Data types are mostly strings and timestamps.\n",
        "- The dataset is clean and ready for EDA after handling missing values."
      ],
      "metadata": {
        "id": "gfoNAAC-nUe_"
      }
    },
    {
      "cell_type": "markdown",
      "source": [
        "## ***2. Understanding Your Variables***"
      ],
      "metadata": {
        "id": "nA9Y7ga8ng1Z"
      }
    },
    {
      "cell_type": "code",
      "source": [
        "# Show all column names in the dataset\n",
        "print(\"Dataset Columns:\\n\")\n",
        "print(df.columns.tolist())"
      ],
      "metadata": {
        "id": "j7xfkqrt5Ag5"
      },
      "execution_count": null,
      "outputs": []
    },
    {
      "cell_type": "code",
      "source": [
        "# Dataset Describe\n",
        "# Describe numerical columns (Request Hour, etc.)\n",
        "df.describe()"
      ],
      "metadata": {
        "id": "DnOaZdaE5Q5t"
      },
      "execution_count": null,
      "outputs": []
    },
    {
      "cell_type": "markdown",
      "source": [
        "### Variables Description"
      ],
      "metadata": {
        "id": "PBTbrJXOngz2"
      }
    },
    {
      "cell_type": "markdown",
      "source": [
        "### 📘 Variables Description\n",
        "\n",
        "| Column Name        | Description                                                                 |\n",
        "|--------------------|-----------------------------------------------------------------------------|\n",
        "| Request id         | Unique ID for each ride request                                             |\n",
        "| Pickup point       | Location where the ride was requested (City or Airport)                     |\n",
        "| Driver id          | ID of the driver assigned (may be missing if no car was available)          |\n",
        "| Status             | Final status of the ride: Trip Completed, Cancelled, or No Cars Available   |\n",
        "| Request timestamp  | Date and time when the ride was requested                                   |\n",
        "| Drop timestamp     | Date and time when the ride ended (may be missing if trip was not completed)|\n",
        "| Request Hour       | Hour (0–23) extracted from request timestamp                                |\n",
        "| Time Slot          | Time bucket (Late Night, Morning, Evening, etc.) based on Request Hour      |\n",
        "| Trip Type          | Combined value of Pickup Point and Status for analysis                      |\n"
      ],
      "metadata": {
        "id": "aJV4KIxSnxay"
      }
    },
    {
      "cell_type": "markdown",
      "source": [
        "### Check Unique Values for each variable."
      ],
      "metadata": {
        "id": "u3PMJOP6ngxN"
      }
    },
    {
      "cell_type": "code",
      "source": [
        "# Check number of unique values for each column\n",
        "print(\"Unique values in each column:\\n\")\n",
        "for col in df.columns:\n",
        "    print(f\"{col}: {df[col].nunique()}\")\n"
      ],
      "metadata": {
        "id": "zms12Yq5n-jE"
      },
      "execution_count": null,
      "outputs": []
    },
    {
      "cell_type": "markdown",
      "source": [
        "## 3. ***Data Wrangling***"
      ],
      "metadata": {
        "id": "dauF4eBmngu3"
      }
    },
    {
      "cell_type": "markdown",
      "source": [
        "### Data Wrangling Code"
      ],
      "metadata": {
        "id": "bKJF3rekwFvQ"
      }
    },
    {
      "cell_type": "code",
      "source": [
        "#Cleaning & Preparing the Data\n",
        "# Step 1: Fill missing values with labels (if not already done)\n",
        "df[\"Driver id\"] = df[\"Driver id\"].fillna(\"No Driver\")\n",
        "df[\"Drop timestamp\"] = df[\"Drop timestamp\"].fillna(\"Not Completed\")\n",
        "\n",
        "# Step 2: Create flags for analysis\n",
        "df[\"Driver Assigned\"] = df[\"Driver id\"] != \"No Driver\"\n",
        "df[\"Trip Completed\"] = df[\"Drop timestamp\"] != \"Not Completed\"\n",
        "\n",
        "# Step 3: Confirm clean data\n",
        "print(\"Missing values after filling:\\n\")\n",
        "print(df.isnull().sum())\n",
        "\n",
        "# Step 4: Format timestamp correctly (use dayfirst=True!)\n",
        "df[\"Request timestamp\"] = pd.to_datetime(df[\"Request timestamp\"], dayfirst=True, errors='coerce')\n",
        "\n",
        "# Avoid FutureWarning by converting to string first, then replacing\n",
        "df[\"Drop timestamp\"] = df[\"Drop timestamp\"].astype(str).replace(\"Not Completed\", pd.NaT)\n",
        "df[\"Drop timestamp\"] = pd.to_datetime(df[\"Drop timestamp\"], dayfirst=True, errors='coerce')\n",
        "\n"
      ],
      "metadata": {
        "id": "wk-9a2fpoLcV"
      },
      "execution_count": null,
      "outputs": []
    },
    {
      "cell_type": "markdown",
      "source": [
        "### What all manipulations have you done and insights you found?"
      ],
      "metadata": {
        "id": "MSa1f5Uengrz"
      }
    },
    {
      "cell_type": "markdown",
      "source": [
        "###  Data Wrangling Summary\n",
        "\n",
        "1. Filled missing values in:\n",
        "   - `Driver id` → replaced with \"No Driver\"\n",
        "   - `Drop timestamp` → replaced with \"Not Completed\"\n",
        "\n",
        "2. Created 2 new flag columns:\n",
        "   - `Driver Assigned`: Indicates whether a driver was allocated\n",
        "   - `Trip Completed`: Indicates whether the trip was successful\n",
        "\n",
        "3. Converted timestamp columns to datetime format for proper analysis.\n",
        "\n",
        "4. Already engineered features used:\n",
        "   - `Request Hour`: Hour of request (0–23)\n",
        "   - `Time Slot`: Time of day category\n",
        "   - `Trip Type`: Combination of pickup point and trip status\n",
        "\n",
        "### Key Insight:\n",
        "These manipulations helped isolate patterns such as:\n",
        "- High cancellations in late night/early morning\n",
        "- More demand and failed rides at Airport\n"
      ],
      "metadata": {
        "id": "LbyXE7I1olp8"
      }
    },
    {
      "cell_type": "markdown",
      "source": [
        "## ***4. Data Vizualization, Storytelling & Experimenting with charts : Understand the relationships between variables***"
      ],
      "metadata": {
        "id": "GF8Ens_Soomf"
      }
    },
    {
      "cell_type": "markdown",
      "source": [
        "#### **Pie Chart**"
      ],
      "metadata": {
        "id": "0wOQAZs5pc--"
      }
    },
    {
      "cell_type": "code",
      "source": [
        "# Pie chart shows the proportion of Completed, Cancelled, and No Cars Available\n",
        "status_counts = df[\"Status\"].value_counts()\n",
        "plt.figure(figsize=(6, 6))\n",
        "plt.pie(status_counts, labels=status_counts.index, autopct=\"%1.1f%%\", startangle=90, colors=sns.color_palette(\"Set2\"))\n",
        "plt.title(\"Ride Status Distribution (Pie Chart)\")\n",
        "plt.axis(\"equal\")\n",
        "plt.show()\n"
      ],
      "metadata": {
        "id": "7v_ESjsspbW7"
      },
      "execution_count": null,
      "outputs": []
    },
    {
      "cell_type": "markdown",
      "source": [
        "##### 1. Why did you pick the specific chart?"
      ],
      "metadata": {
        "id": "K5QZ13OEpz2H"
      }
    },
    {
      "cell_type": "markdown",
      "source": [
        "A pie chart clearly represents how each ride status (Completed, Cancelled, No Cars Available) contributes to the whole, making it ideal for proportional comparison."
      ],
      "metadata": {
        "id": "XESiWehPqBRc"
      }
    },
    {
      "cell_type": "markdown",
      "source": [
        "##### 2. What is/are the insight(s) found from the chart?"
      ],
      "metadata": {
        "id": "lQ7QKXXCp7Bj"
      }
    },
    {
      "cell_type": "markdown",
      "source": [
        "Only around 40–45% of rides were completed. A large portion of rides were either cancelled or had no cars available, indicating operational inefficiency."
      ],
      "metadata": {
        "id": "C_j1G7yiqdRP"
      }
    },
    {
      "cell_type": "markdown",
      "source": [
        "##### 3. Will the gained insights help creating a positive business impact?\n",
        "Are there any insights that lead to negative growth? Justify with specific reason."
      ],
      "metadata": {
        "id": "448CDAPjqfQr"
      }
    },
    {
      "cell_type": "markdown",
      "source": [
        "**Positive Insight**: Helps Uber realize the need to reduce cancellations.\n",
        "\n",
        "**Negative Insight:** High number of ride failures may cause customer dissatisfaction and churn, affecting brand trust."
      ],
      "metadata": {
        "id": "3cspy4FjqxJW"
      }
    },
    {
      "cell_type": "markdown",
      "source": [
        "###**Bar Plot**"
      ],
      "metadata": {
        "id": "KSlN3yHqYklG"
      }
    },
    {
      "cell_type": "code",
      "source": [
        "# Bar plot compares the number of requests from Airport and City\n",
        "pickup_counts = df[\"Pickup point\"].value_counts()\n",
        "plt.figure(figsize=(6, 4))\n",
        "sns.barplot(\n",
        "    x=pickup_counts.index,\n",
        "    y=pickup_counts.values,\n",
        "    hue=pickup_counts.index,\n",
        "    palette=\"pastel\",\n",
        "    legend=False\n",
        ")\n",
        "plt.title(\"Pickup Point Request Count\")\n",
        "plt.xlabel(\"Pickup Point\")\n",
        "plt.ylabel(\"Number of Requests\")\n",
        "plt.tight_layout()\n",
        "plt.show()"
      ],
      "metadata": {
        "id": "R4YgtaqtYklH"
      },
      "execution_count": null,
      "outputs": []
    },
    {
      "cell_type": "markdown",
      "source": [
        "##### 1. Why did you pick the specific chart?"
      ],
      "metadata": {
        "id": "t6dVpIINYklI"
      }
    },
    {
      "cell_type": "markdown",
      "source": [
        "Bar plots are best for comparing discrete categories like pickup points (Airport vs City)."
      ],
      "metadata": {
        "id": "5aaW0BYyYklI"
      }
    },
    {
      "cell_type": "markdown",
      "source": [
        "##### 2. What is/are the insight(s) found from the chart?"
      ],
      "metadata": {
        "id": "ijmpgYnKYklI"
      }
    },
    {
      "cell_type": "markdown",
      "source": [
        "The Airport has significantly more ride requests than the City, pointing to a demand concentration at that location."
      ],
      "metadata": {
        "id": "PSx9atu2YklI"
      }
    },
    {
      "cell_type": "markdown",
      "source": [
        "##### 3. Will the gained insights help creating a positive business impact?\n",
        "Are there any insights that lead to negative growth? Justify with specific reason."
      ],
      "metadata": {
        "id": "-JiQyfWJYklI"
      }
    },
    {
      "cell_type": "markdown",
      "source": [
        "**Positive Insight:** Uber can allocate more drivers to the Airport, ensuring better fulfillment.\n",
        "\n",
        "**Negative Insight:** Not addressing this may lead to high wait times and customer complaints at high-demand areas."
      ],
      "metadata": {
        "id": "BcBbebzrYklV"
      }
    },
    {
      "cell_type": "code",
      "source": [
        "#Airport has highest No cars available\n",
        "sns.countplot(data=df, x=\"Pickup point\", hue=\"Status\", palette=\"Set2\")\n",
        "plt.title(\"Status Distribution by Pickup Point\")"
      ],
      "metadata": {
        "id": "zN2l-9SKhc6u"
      },
      "execution_count": null,
      "outputs": []
    },
    {
      "cell_type": "markdown",
      "source": [
        "#### **Line Plot**"
      ],
      "metadata": {
        "id": "EM7whBJCYoAo"
      }
    },
    {
      "cell_type": "code",
      "source": [
        "# Line plot shows trends in ride demand throughout the day (0–23 hours)\n",
        "hourly_requests = df[\"Request Hour\"].value_counts().sort_index()\n",
        "plt.figure(figsize=(8, 4))\n",
        "sns.lineplot(x=hourly_requests.index, y=hourly_requests.values, marker=\"o\", color=\"teal\")\n",
        "plt.title(\"Requests by Hour (Line Plot)\")\n",
        "plt.xlabel(\"Hour of Day\")\n",
        "plt.ylabel(\"Number of Requests\")\n",
        "plt.grid(True)\n",
        "plt.tight_layout()\n",
        "plt.show()"
      ],
      "metadata": {
        "id": "t6GMdE67YoAp"
      },
      "execution_count": null,
      "outputs": []
    },
    {
      "cell_type": "markdown",
      "source": [
        "##### 1. Why did you pick the specific chart?"
      ],
      "metadata": {
        "id": "fge-S5ZAYoAp"
      }
    },
    {
      "cell_type": "markdown",
      "source": [
        "Line plots show trends over continuous variables, such as time of day."
      ],
      "metadata": {
        "id": "5dBItgRVYoAp"
      }
    },
    {
      "cell_type": "markdown",
      "source": [
        "##### 2. What is/are the insight(s) found from the chart?"
      ],
      "metadata": {
        "id": "85gYPyotYoAp"
      }
    },
    {
      "cell_type": "markdown",
      "source": [
        "Request frequency peaks around 8–10 AM and 5–9 PM, indicating commute-related usage patterns."
      ],
      "metadata": {
        "id": "4jstXR6OYoAp"
      }
    },
    {
      "cell_type": "markdown",
      "source": [
        "##### 3. Will the gained insights help creating a positive business impact?\n",
        "Are there any insights that lead to negative growth? Justify with specific reason."
      ],
      "metadata": {
        "id": "RoGjAbkUYoAp"
      }
    },
    {
      "cell_type": "markdown",
      "source": [
        "**Positive Insight:** Uber can increase driver availability during these hours.\n",
        "\n",
        "**Negative Insight:** Ignoring this may lead to driver shortages and unsatisfied customers during critical hours."
      ],
      "metadata": {
        "id": "zfJ8IqMcYoAp"
      }
    },
    {
      "cell_type": "markdown",
      "source": [
        "#### **Stacked Bar Chart**"
      ],
      "metadata": {
        "id": "4Of9eVA-YrdM"
      }
    },
    {
      "cell_type": "code",
      "source": [
        "# Stacked bar chart shows ride outcome by time slot (e.g., Morning, Night)\n",
        "stacked = df[df[\"Status\"].isin([\"Trip Completed\", \"Cancelled\"])]\n",
        "grouped = stacked.groupby([\"Time Slot\", \"Status\"]).size().unstack().fillna(0)\n",
        "grouped.plot(kind=\"bar\", stacked=True, figsize=(8, 5), colormap=\"Accent\")\n",
        "plt.title(\"Completed vs Cancelled by Time Slot (Stacked Bar)\")\n",
        "plt.xlabel(\"Time Slot\")\n",
        "plt.ylabel(\"Number of Requests\")\n",
        "plt.xticks(rotation=45)\n",
        "plt.tight_layout()\n",
        "plt.show()"
      ],
      "metadata": {
        "id": "irlUoxc8YrdO"
      },
      "execution_count": null,
      "outputs": []
    },
    {
      "cell_type": "markdown",
      "source": [
        "##### 1. Why did you pick the specific chart?"
      ],
      "metadata": {
        "id": "iky9q4vBYrdO"
      }
    },
    {
      "cell_type": "markdown",
      "source": [
        "Stacked bars show both total demand and status distribution in a single chart across time slots."
      ],
      "metadata": {
        "id": "aJRCwT6DYrdO"
      }
    },
    {
      "cell_type": "markdown",
      "source": [
        "##### 2. What is/are the insight(s) found from the chart?"
      ],
      "metadata": {
        "id": "F6T5p64dYrdO"
      }
    },
    {
      "cell_type": "markdown",
      "source": [
        "Late Night and Early Morning slots show higher cancellations, while Afternoon and Evening slots perform better."
      ],
      "metadata": {
        "id": "Xx8WAJvtYrdO"
      }
    },
    {
      "cell_type": "markdown",
      "source": [
        "##### 3. Will the gained insights help creating a positive business impact?\n",
        "Are there any insights that lead to negative growth? Justify with specific reason."
      ],
      "metadata": {
        "id": "y-Ehk30pYrdP"
      }
    },
    {
      "cell_type": "markdown",
      "source": [
        "**Positive Insight:** Uber can plan incentives or shift adjustments for drivers in off-peak hours.\n",
        "\n",
        "**Negative Insight:** Frequent early-morning cancellations lead to customer loss and negative reviews.\n",
        "\n"
      ],
      "metadata": {
        "id": "jLNxxz7MYrdP"
      }
    },
    {
      "cell_type": "markdown",
      "source": [
        "#### **Histogram**"
      ],
      "metadata": {
        "id": "bamQiAODYuh1"
      }
    },
    {
      "cell_type": "code",
      "source": [
        "# Histogram shows how many rides were requested in each hour\n",
        "plt.figure(figsize=(7, 4))\n",
        "sns.histplot(df[\"Request Hour\"], bins=24, kde=False, color=\"skyblue\")\n",
        "plt.title(\"Histogram: Request Frequency by Hour\")\n",
        "plt.xlabel(\"Hour of Day\")\n",
        "plt.ylabel(\"Number of Requests\")\n",
        "plt.xticks(range(0, 24))\n",
        "plt.tight_layout()\n",
        "plt.show()"
      ],
      "metadata": {
        "id": "TIJwrbroYuh3"
      },
      "execution_count": null,
      "outputs": []
    },
    {
      "cell_type": "markdown",
      "source": [
        "##### 1. Why did you pick the specific chart?"
      ],
      "metadata": {
        "id": "QHF8YVU7Yuh3"
      }
    },
    {
      "cell_type": "markdown",
      "source": [
        "Histograms are best to visualize the frequency distribution of a numeric variable like hours."
      ],
      "metadata": {
        "id": "dcxuIMRPYuh3"
      }
    },
    {
      "cell_type": "markdown",
      "source": [
        "##### 2. What is/are the insight(s) found from the chart?"
      ],
      "metadata": {
        "id": "GwzvFGzlYuh3"
      }
    },
    {
      "cell_type": "markdown",
      "source": [
        "Most requests occur between 7 AM and 10 PM, and very few at night."
      ],
      "metadata": {
        "id": "uyqkiB8YYuh3"
      }
    },
    {
      "cell_type": "markdown",
      "source": [
        "##### 3. Will the gained insights help creating a positive business impact?\n",
        "Are there any insights that lead to negative growth? Justify with specific reason."
      ],
      "metadata": {
        "id": "qYpmQ266Yuh3"
      }
    },
    {
      "cell_type": "markdown",
      "source": [
        "**Positive Insight:** Helps Uber plan driver deployment more efficiently during active hours.\n",
        "\n",
        "**Negative Insight:** If ignored, drivers may remain idle at night, causing wasted resources."
      ],
      "metadata": {
        "id": "_WtzZ_hCYuh4"
      }
    },
    {
      "cell_type": "markdown",
      "source": [
        "####**Box Plot**"
      ],
      "metadata": {
        "id": "OH-pJp9IphqM"
      }
    },
    {
      "cell_type": "code",
      "source": [
        "# Box Plot: Request Hour by Ride Status (Fixed warning)\n",
        "# Displays median and outliers in request time across statuses\n",
        "plt.figure(figsize=(8, 4))\n",
        "sns.boxplot(x=\"Status\", y=\"Request Hour\", hue=\"Status\",\n",
        "            data=df, palette=\"Set3\", legend=False)\n",
        "plt.title(\"Box Plot: Request Hour by Ride Status\")\n",
        "plt.xlabel(\"Ride Status\")\n",
        "plt.ylabel(\"Request Hour\")\n",
        "plt.tight_layout()\n",
        "plt.show()\n"
      ],
      "metadata": {
        "id": "kuRf4wtuphqN"
      },
      "execution_count": null,
      "outputs": []
    },
    {
      "cell_type": "markdown",
      "source": [
        "##### 1. Why did you pick the specific chart?"
      ],
      "metadata": {
        "id": "bbFf2-_FphqN"
      }
    },
    {
      "cell_type": "markdown",
      "source": [
        "Box plots are excellent for showing spread, median, and outliers for numerical data across categories."
      ],
      "metadata": {
        "id": "loh7H2nzphqN"
      }
    },
    {
      "cell_type": "markdown",
      "source": [
        "##### 2. What is/are the insight(s) found from the chart?"
      ],
      "metadata": {
        "id": "_ouA3fa0phqN"
      }
    },
    {
      "cell_type": "markdown",
      "source": [
        "Cancelled rides often happen early in the day or late at night, while completed rides are more evenly spread."
      ],
      "metadata": {
        "id": "VECbqPI7phqN"
      }
    },
    {
      "cell_type": "markdown",
      "source": [
        "##### 3. Will the gained insights help creating a positive business impact?\n",
        "Are there any insights that lead to negative growth? Justify with specific reason."
      ],
      "metadata": {
        "id": "Seke61FWphqN"
      }
    },
    {
      "cell_type": "markdown",
      "source": [
        "**Positive Insight:** Provides evidence for time-based cancellation risks, useful for improving scheduling.\n",
        "\n",
        "**Negative Insight:** Ignoring this might allow avoidable cancellations to persist."
      ],
      "metadata": {
        "id": "DW4_bGpfphqN"
      }
    },
    {
      "cell_type": "markdown",
      "source": [
        "#### **Violin Plot**"
      ],
      "metadata": {
        "id": "PIIx-8_IphqN"
      }
    },
    {
      "cell_type": "code",
      "source": [
        "# Violin Plot: Request Hour by Pickup Point (Fixed warning)\n",
        "# Shows request time distribution shape for City vs Airport\n",
        "plt.figure(figsize=(8, 4))\n",
        "sns.violinplot(x=\"Pickup point\", y=\"Request Hour\", hue=\"Pickup point\",\n",
        "               data=df, palette=\"husl\", legend=False)\n",
        "plt.title(\"Violin Plot: Request Hour by Pickup Point\")\n",
        "plt.xlabel(\"Pickup Point\")\n",
        "plt.ylabel(\"Request Hour\")\n",
        "plt.tight_layout()\n",
        "plt.show()\n"
      ],
      "metadata": {
        "id": "lqAIGUfyphqO"
      },
      "execution_count": null,
      "outputs": []
    },
    {
      "cell_type": "markdown",
      "source": [
        "##### 1. Why did you pick the specific chart?"
      ],
      "metadata": {
        "id": "t27r6nlMphqO"
      }
    },
    {
      "cell_type": "markdown",
      "source": [
        "Violin plots show both the distribution and density of data, combining boxplot with KDE."
      ],
      "metadata": {
        "id": "iv6ro40sphqO"
      }
    },
    {
      "cell_type": "markdown",
      "source": [
        "##### 2. What is/are the insight(s) found from the chart?"
      ],
      "metadata": {
        "id": "r2jJGEOYphqO"
      }
    },
    {
      "cell_type": "markdown",
      "source": [
        "City requests are more evenly distributed; Airport requests are clustered around peak hours."
      ],
      "metadata": {
        "id": "Po6ZPi4hphqO"
      }
    },
    {
      "cell_type": "markdown",
      "source": [
        "##### 3. Will the gained insights help creating a positive business impact?\n",
        "Are there any insights that lead to negative growth? Justify with specific reason."
      ],
      "metadata": {
        "id": "b0JNsNcRphqO"
      }
    },
    {
      "cell_type": "markdown",
      "source": [
        "**Positive Insight:** help predict demand patterns better at different locations.\n",
        "\n",
        "**Negative Insight:** Without this knowledge, Uber may under-service key demand periods, causing lost revenue."
      ],
      "metadata": {
        "id": "xvSq8iUTphqO"
      }
    },
    {
      "cell_type": "markdown",
      "source": [
        "#### **HeatMap**"
      ],
      "metadata": {
        "id": "BZR9WyysphqO"
      }
    },
    {
      "cell_type": "code",
      "source": [
        "# Encode categorical variables\n",
        "df[\"TimeSlotCode\"] = df[\"Time Slot\"].astype('category').cat.codes\n",
        "df[\"PickupCode\"] = df[\"Pickup point\"].astype('category').cat.codes"
      ],
      "metadata": {
        "id": "SsX3t5D-YHDg"
      },
      "execution_count": null,
      "outputs": []
    },
    {
      "cell_type": "code",
      "source": [
        "# Heatmap for correlations between numerical/encoded features\n",
        "plt.figure(figsize=(6, 4))\n",
        "sns.heatmap(df[[\"Request Hour\", \"TimeSlotCode\", \"PickupCode\"]].corr(),\n",
        "            annot=True, cmap=\"Blues\", fmt=\".2f\")\n",
        "plt.title(\"Heatmap: Correlation Matrix of Features\")\n",
        "plt.tight_layout()\n",
        "plt.show()"
      ],
      "metadata": {
        "id": "TdPTWpAVphqO"
      },
      "execution_count": null,
      "outputs": []
    },
    {
      "cell_type": "markdown",
      "source": [
        "##### 1. Why did you pick the specific chart?"
      ],
      "metadata": {
        "id": "jj7wYXLtphqO"
      }
    },
    {
      "cell_type": "markdown",
      "source": [
        "Heatmaps help us understand relationships between numerical variables."
      ],
      "metadata": {
        "id": "Ob8u6rCTphqO"
      }
    },
    {
      "cell_type": "markdown",
      "source": [
        "##### 2. What is/are the insight(s) found from the chart?"
      ],
      "metadata": {
        "id": "eZrbJ2SmphqO"
      }
    },
    {
      "cell_type": "markdown",
      "source": [
        "There is mild correlation between pickup point, time slot, and request hour, meaning they can influence ride outcomes."
      ],
      "metadata": {
        "id": "mZtgC_hjphqO"
      }
    },
    {
      "cell_type": "markdown",
      "source": [
        "##### 3. Will the gained insights help creating a positive business impact?\n",
        "Are there any insights that lead to negative growth? Justify with specific reason."
      ],
      "metadata": {
        "id": "rFu4xreNphqO"
      }
    },
    {
      "cell_type": "markdown",
      "source": [
        "**Positive Insight:** Helps Uber model predictions more accurately.\n",
        "\n",
        "**Negative Insight:** Weak correlation could lead to overfitting if not handled well in ML models."
      ],
      "metadata": {
        "id": "ey_0qi68phqO"
      }
    },
    {
      "cell_type": "markdown",
      "source": [
        "#### **Pair Plot**"
      ],
      "metadata": {
        "id": "YJ55k-q6phqO"
      }
    },
    {
      "cell_type": "code",
      "source": [
        "# Step 1: Encode the categorical columns (if not already done)\n",
        "df[\"TimeSlotCode\"] = df[\"Time Slot\"].astype(\"category\").cat.codes\n",
        "df[\"PickupCode\"] = df[\"Pickup point\"].astype(\"category\").cat.codes\n",
        "\n",
        "# Step 2: Create the pairplot\n",
        "sns.pairplot(df[[\"Request Hour\", \"TimeSlotCode\", \"PickupCode\"]])\n",
        "plt.suptitle(\"Pairplot: Request Hour, Time Slot, Pickup Point\", y=1.02)\n",
        "plt.show()\n"
      ],
      "metadata": {
        "id": "B2aS4O1ophqO"
      },
      "execution_count": null,
      "outputs": []
    },
    {
      "cell_type": "markdown",
      "source": [
        "##### 1. Why did you pick the specific chart?"
      ],
      "metadata": {
        "id": "gCFgpxoyphqP"
      }
    },
    {
      "cell_type": "markdown",
      "source": [
        "Pairplots show all pairwise relationships at once — useful for pattern discovery."
      ],
      "metadata": {
        "id": "TVxDimi2phqP"
      }
    },
    {
      "cell_type": "markdown",
      "source": [
        "##### 2. What is/are the insight(s) found from the chart?"
      ],
      "metadata": {
        "id": "OVtJsKN_phqQ"
      }
    },
    {
      "cell_type": "markdown",
      "source": [
        "We can observe clustering in request hour vs pickup point/time slot, supporting prior findings."
      ],
      "metadata": {
        "id": "ngGi97qjphqQ"
      }
    },
    {
      "cell_type": "markdown",
      "source": [
        "##### 3. Will the gained insights help creating a positive business impact?\n",
        "Are there any insights that lead to negative growth? Justify with specific reason."
      ],
      "metadata": {
        "id": "lssrdh5qphqQ"
      }
    },
    {
      "cell_type": "markdown",
      "source": [
        "**Positive Insight:** Confirms patterns that can be used in predictive modeling or forecasting tools.\n",
        "\n",
        "***Negative Insight: ***If not interpreted correctly, may mislead feature importance during model training."
      ],
      "metadata": {
        "id": "tBpY5ekJphqQ"
      }
    },
    {
      "cell_type": "markdown",
      "source": [
        "#### **Swarm Plot**"
      ],
      "metadata": {
        "id": "U2RJ9gkRphqQ"
      }
    },
    {
      "cell_type": "code",
      "source": [
        "# Swarm Plot: Request Hour by Ride Status (Sample of 500)\n",
        "# Each dot shows one ride’s request time, grouped by status\n",
        "plt.figure(figsize=(8, 4))\n",
        "sns.swarmplot(x=\"Status\", y=\"Request Hour\", hue=\"Status\",\n",
        "              data=df.sample(500), palette=\"Set2\", size=3, legend=False)\n",
        "plt.title(\"Swarm Plot: Request Hour by Ride Status (Sample of 500)\")\n",
        "plt.xlabel(\"Ride Status\")\n",
        "plt.ylabel(\"Request Hour\")\n",
        "plt.tight_layout()\n",
        "plt.show()"
      ],
      "metadata": {
        "id": "GM7a4YP4phqQ"
      },
      "execution_count": null,
      "outputs": []
    },
    {
      "cell_type": "markdown",
      "source": [
        "##### 1. Why did you pick the specific chart?"
      ],
      "metadata": {
        "id": "1M8mcRywphqQ"
      }
    },
    {
      "cell_type": "markdown",
      "source": [
        "Swarm plots visualize each data point, making it useful for analyzing individual behavior within categories."
      ],
      "metadata": {
        "id": "8agQvks0phqQ"
      }
    },
    {
      "cell_type": "markdown",
      "source": [
        "##### 2. What is/are the insight(s) found from the chart?"
      ],
      "metadata": {
        "id": "tgIPom80phqQ"
      }
    },
    {
      "cell_type": "markdown",
      "source": [
        "Cancellations cluster around early hours, while completed rides are more stable across hours."
      ],
      "metadata": {
        "id": "Qp13pnNzphqQ"
      }
    },
    {
      "cell_type": "markdown",
      "source": [
        "##### 3. Will the gained insights help creating a positive business impact?\n",
        "Are there any insights that lead to negative growth? Justify with specific reason."
      ],
      "metadata": {
        "id": "JMzcOPDDphqR"
      }
    },
    {
      "cell_type": "markdown",
      "source": [
        "**Positive Insight:** Allows Uber to target problem hours with policy or driver incentives.\n",
        "\n",
        "**Negative Insight:** If ignored, these small clusters could add up to big losses over time."
      ],
      "metadata": {
        "id": "R4Ka1PC2phqR"
      }
    },
    {
      "cell_type": "markdown",
      "source": [
        "## **5. Solution to Business Objective**"
      ],
      "metadata": {
        "id": "JcMwzZxoAimU"
      }
    },
    {
      "cell_type": "markdown",
      "source": [
        "#### What do you suggest the client to achieve Business Objective ?\n",
        "Explain Briefly."
      ],
      "metadata": {
        "id": "8G2x9gOozGDZ"
      }
    },
    {
      "cell_type": "markdown",
      "source": [
        "\n",
        "\n",
        " **Business Objective:**\n",
        "\n",
        "Understand ride demand patterns, service availability issues, and cancellation reasons to improve overall ride fulfillment, reduce cancellations, and ensure better customer experience.\n",
        "\n",
        "\n",
        "**Suggested Actions:**\n",
        "\n",
        "**1) Increase Drivers in High-Demand Areas**\n",
        "\n",
        "More requests are from the Airport, especially during peak hours. Uber should assign more drivers there during these times.\n",
        "\n",
        "\n",
        "**2) Fix Late Night & Early Morning Cancellations**\n",
        "\n",
        "Many rides are cancelled at night or early morning. Uber can give driver incentives or bonuses to cover these hours.\n",
        "\n",
        "**3) Use Smart Scheduling**\n",
        "\n",
        "Uber can use data to predict demand and suggest drivers log in during busy slots.\n",
        "\n",
        "**4) Improve Customer Experience**\n",
        "\n",
        "\n",
        "Give ride credits or offers when no cars are available to reduce customer loss."
      ],
      "metadata": {
        "id": "pASKb0qOza21"
      }
    },
    {
      "cell_type": "markdown",
      "source": [
        "# **Conclusion**"
      ],
      "metadata": {
        "id": "gCX9965dhzqZ"
      }
    },
    {
      "cell_type": "markdown",
      "source": [
        "In this project, we analyzed Uber ride data using Excel, SQL, and Python (Pandas + Seaborn) to explore patterns in ride requests, cancellations, and availability.\n",
        "\n",
        "**we discovered that:**\n",
        "\n",
        "Most cancellations happen during early mornings and late nights\n",
        "\n",
        "Airport has higher demand than the City\n",
        "\n",
        "Ride requests peak during office hours (morning and evening)\n",
        "\n",
        "**By understanding these patterns, we suggested ways to:**\n",
        "\n",
        "Improve driver allocation\n",
        "\n",
        "Reduce cancellations\n",
        "\n",
        "Enhance customer satisfaction\n",
        "\n",
        "This analysis helps Uber make data-driven decisions to improve service and reach business goals."
      ],
      "metadata": {
        "id": "Fjb1IsQkh3yE"
      }
    },
    {
      "cell_type": "markdown",
      "source": [
        "### ***Hurrah! You have successfully completed your EDA Capstone Project !!!***"
      ],
      "metadata": {
        "id": "gIfDvo9L0UH2"
      }
    }
  ]
}